{
 "cells": [
  {
   "cell_type": "code",
   "execution_count": 1,
   "metadata": {},
   "outputs": [],
   "source": [
    "import warnings\n",
    "warnings.filterwarnings(\"ignore\")\n",
    "import scanpy as sc\n",
    "import cupy as cp\n",
    "from cupy.sparse import cupyx as cpx\n",
    "import cudf\n",
    "import pandas as pd\n",
    "import numpy as np\n",
    "import seaborn as sns\n",
    "import anndata\n",
    "from collections import defaultdict\n",
    "import glob\n",
    "samples=list(map(lambda p: \"_\".join(p.split(\"_\")[:2]),glob.glob(\"*mtx*\") ))"
   ]
  },
  {
   "cell_type": "code",
   "execution_count": 2,
   "metadata": {},
   "outputs": [],
   "source": [
    "samples=glob.glob(\"**/**/**/filtered*/\")"
   ]
  },
  {
   "cell_type": "code",
   "execution_count": 3,
   "metadata": {},
   "outputs": [],
   "source": [
    "sample=samples[0]\n",
    "def mtx_to_pandas(sample):\n",
    "    mtx_data=cudf.read_csv(sample+\"matrix.mtx.gz\",sep=\" \",dtype=['float32' for i in range(3)],comment=\"%\",header=None)\n",
    "    data=mtx_data.iloc[1:,2].values\n",
    "    row=mtx_data.iloc[1:,1].values\n",
    "    col=mtx_data.iloc[1:,0].values\n",
    "\n",
    "    barcodes=cudf.read_csv(sample+\"barcodes.tsv.gz\",header=None)[\"0\"]\n",
    "\n",
    "    genes=cudf.read_csv(sample+\"features.tsv.gz\",header=None,sep=\"\\t\")[\"1\"]\n",
    "\n",
    "    sp=cpx.scipy.sparse.coo_matrix((data, (row, col)),shape=(len(barcodes)+1,len(genes)+1))\n",
    "    sp=sp.tocsr()[1:,1:]\n",
    "\n",
    "    sparse_df=pd.DataFrame.sparse.from_spmatrix(sp.get().astype(int),index=barcodes.to_array(),columns=genes.to_array())\n",
    "\n",
    "    name_counts = defaultdict(int)\n",
    "    new_col_names = []\n",
    "    for name in sparse_df.columns:\n",
    "        new_count = name_counts[name] + 1\n",
    "        new_col_names.append(\"{}{}\".format(name, new_count))\n",
    "        name_counts[name] = new_count \n",
    "    sparse_df.columns = new_col_names\n",
    "    ### appending prefix to cell names according to samples if needed\n",
    "    sparse_df.index=sample.split(\"/\")[1]+\"_\"+sparse_df.index\n",
    "    ### -\n",
    "    return sparse_df.loc[:,np.random.choice(sparse_df.columns,5000,replace=False)]\n",
    "\n"
   ]
  },
  {
   "cell_type": "code",
   "execution_count": 4,
   "metadata": {},
   "outputs": [],
   "source": [
    "from joblib import delayed, Parallel\n",
    "allsparse_dfs = Parallel(n_jobs=len(samples))(\n",
    "        delayed(mtx_to_pandas)(\n",
    "            samples[i]\n",
    "        )\n",
    "        for i in range(len(samples))\n",
    ")\n",
    "    "
   ]
  },
  {
   "cell_type": "code",
   "execution_count": 5,
   "metadata": {},
   "outputs": [],
   "source": [
    "allgenes=[sparse_df.columns for sparse_df in allsparse_dfs]\n",
    "allgenes=np.unique(np.concatenate(allgenes))\n",
    "\n",
    "def add_missing_genes(sparse_df):\n",
    "    sparse_df=sparse_df.reindex(columns=allgenes, fill_value=0)\n",
    "    return sparse_df.astype(pd.SparseDtype(\"int\")).sparse.to_coo()"
   ]
  },
  {
   "cell_type": "code",
   "execution_count": 6,
   "metadata": {},
   "outputs": [],
   "source": [
    "allsps = Parallel(n_jobs=len(samples))(\n",
    "        delayed(to_csr_gpu)(\n",
    "            allsparse_dfs[i]\n",
    "        )\n",
    "        for i in range(len(allsparse_dfs))\n",
    ")"
   ]
  },
  {
   "cell_type": "code",
   "execution_count": 7,
   "metadata": {},
   "outputs": [],
   "source": [
    "import scipy.sparse\n",
    "megasparse=scipy.sparse.vstack(allsps).tocsr()"
   ]
  },
  {
   "cell_type": "code",
   "execution_count": 8,
   "metadata": {},
   "outputs": [
    {
     "data": {
      "text/plain": [
       "<212086x33131 sparse matrix of type '<class 'numpy.int64'>'\n",
       "\twith 52895803 stored elements in Compressed Sparse Row format>"
      ]
     },
     "execution_count": 8,
     "metadata": {},
     "output_type": "execute_result"
    }
   ],
   "source": [
    "megasparse"
   ]
  }
 ],
 "metadata": {
  "kernelspec": {
   "display_name": "rapids-0.17",
   "language": "python",
   "name": "rapids-0.17"
  },
  "language_info": {
   "codemirror_mode": {
    "name": "ipython",
    "version": 3
   },
   "file_extension": ".py",
   "mimetype": "text/x-python",
   "name": "python",
   "nbconvert_exporter": "python",
   "pygments_lexer": "ipython3",
   "version": "3.7.9"
  }
 },
 "nbformat": 4,
 "nbformat_minor": 4
}
